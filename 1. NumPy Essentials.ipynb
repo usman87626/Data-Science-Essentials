{
 "cells": [
  {
   "cell_type": "markdown",
   "id": "75cb7484",
   "metadata": {},
   "source": [
    "## NumPy\n",
    "- NumPy stands for Numerical Python\n",
    "- Core library for numeric & scientific computing\n",
    "- Consists of:\n",
    "    - Multi-dimensional array objects &\n",
    "    - Collection of routines for processing these arrays"
   ]
  },
  {
   "cell_type": "code",
   "execution_count": 1,
   "id": "a807a43c",
   "metadata": {},
   "outputs": [],
   "source": [
    "## TO INSTALL => pip install numpy\n",
    "\n",
    "#IMPORTING NUMPY with alias => np\n",
    "import numpy as np"
   ]
  },
  {
   "cell_type": "markdown",
   "id": "4faead7c",
   "metadata": {},
   "source": [
    "## Arrays"
   ]
  },
  {
   "cell_type": "code",
   "execution_count": 2,
   "id": "7b52b417",
   "metadata": {},
   "outputs": [],
   "source": [
    "#SINGLE-DIMENSIONAL ARRAY\n",
    "n1 = np.array([10,20,40,50])\n",
    "#MULTI-DIMENSIONAL ARRAY\n",
    "n2 = np.array([\n",
    "    [1,2,3],\n",
    "    [4,5,6],\n",
    "    [7,8,9]\n",
    "])"
   ]
  },
  {
   "cell_type": "code",
   "execution_count": 4,
   "id": "e71088df",
   "metadata": {},
   "outputs": [
    {
     "name": "stdout",
     "output_type": "stream",
     "text": [
      "<class 'numpy.ndarray'>\n",
      "<class 'numpy.ndarray'>\n"
     ]
    }
   ],
   "source": [
    "##TYPE\n",
    "print(type(n1))\n",
    "print(type(n2))"
   ]
  },
  {
   "cell_type": "code",
   "execution_count": 11,
   "id": "cf5d514d",
   "metadata": {},
   "outputs": [
    {
     "name": "stdout",
     "output_type": "stream",
     "text": [
      "1D Array:\n",
      " [10 20 40 50]\n",
      "==============\n",
      "nD Array:\n",
      " [[1 2 3]\n",
      " [4 5 6]\n",
      " [7 8 9]]\n"
     ]
    }
   ],
   "source": [
    "print(\"1D Array:\\n\",n1)\n",
    "print(\"==============\")\n",
    "print(\"nD Array:\\n\",n2)"
   ]
  },
  {
   "cell_type": "markdown",
   "id": "59c467d5",
   "metadata": {},
   "source": [
    "## Numpy Arras with zeros"
   ]
  },
  {
   "cell_type": "code",
   "execution_count": 15,
   "id": "c3e76804",
   "metadata": {},
   "outputs": [],
   "source": [
    "# PROVIDE (rows,columns) in np.zeros() to get array with zeros\n",
    "\n",
    "# 1x2 array with zeros\n",
    "zeros_1x1 = np.zeros((1,2))\n",
    "\n",
    "# 6x6 array with zeros\n",
    "zero_6x6 = np.zeros((6,6))"
   ]
  },
  {
   "cell_type": "code",
   "execution_count": 16,
   "id": "f9fa0e47",
   "metadata": {},
   "outputs": [
    {
     "name": "stdout",
     "output_type": "stream",
     "text": [
      "[[0. 0.]]\n"
     ]
    }
   ],
   "source": [
    "print(zeros_1x1)"
   ]
  },
  {
   "cell_type": "code",
   "execution_count": 17,
   "id": "ebd48a94",
   "metadata": {},
   "outputs": [
    {
     "name": "stdout",
     "output_type": "stream",
     "text": [
      "[[0. 0. 0. 0. 0. 0.]\n",
      " [0. 0. 0. 0. 0. 0.]\n",
      " [0. 0. 0. 0. 0. 0.]\n",
      " [0. 0. 0. 0. 0. 0.]\n",
      " [0. 0. 0. 0. 0. 0.]\n",
      " [0. 0. 0. 0. 0. 0.]]\n"
     ]
    }
   ],
   "source": [
    "print(zero_6x6)"
   ]
  },
  {
   "cell_type": "markdown",
   "id": "aee13808",
   "metadata": {},
   "source": [
    "## Array with a fixed value in every row & col"
   ]
  },
  {
   "cell_type": "code",
   "execution_count": 18,
   "id": "57e55811",
   "metadata": {},
   "outputs": [
    {
     "name": "stdout",
     "output_type": "stream",
     "text": [
      "[[7 7 7 7 7 7]\n",
      " [7 7 7 7 7 7]\n",
      " [7 7 7 7 7 7]\n",
      " [7 7 7 7 7 7]\n",
      " [7 7 7 7 7 7]\n",
      " [7 7 7 7 7 7]]\n"
     ]
    }
   ],
   "source": [
    "## CREATE 6x6 array where every element will be 7\n",
    "\n",
    "array_with7 = np.full((6,6),7)\n",
    "print(array_with7)"
   ]
  },
  {
   "cell_type": "markdown",
   "id": "f0acf7aa",
   "metadata": {},
   "source": [
    "## Array with a range"
   ]
  },
  {
   "cell_type": "code",
   "execution_count": 19,
   "id": "f686b078",
   "metadata": {},
   "outputs": [
    {
     "name": "stdout",
     "output_type": "stream",
     "text": [
      "[ 1  2  3  4  5  6  7  8  9 10]\n"
     ]
    }
   ],
   "source": [
    "## IT WILL GIVE RANGE OF VALUES FROM 0-10\n",
    "array_with_range = np.arange(1,11)\n",
    "print(array_with_range)"
   ]
  },
  {
   "cell_type": "code",
   "execution_count": 21,
   "id": "81c99de1",
   "metadata": {},
   "outputs": [
    {
     "name": "stdout",
     "output_type": "stream",
     "text": [
      "[100 150 200 250]\n"
     ]
    }
   ],
   "source": [
    "## CREATE ARRAY FROM A RANGE OF 100 to 300 with skip value of 50\n",
    "## Skip value=50 means that get every value after 50th value\n",
    "## Like 100 150 200 250\n",
    "new_array = np.arange(100,300,50)\n",
    "print(new_array)"
   ]
  },
  {
   "cell_type": "markdown",
   "id": "800f2e69",
   "metadata": {},
   "source": [
    "## Array with Random Numbers"
   ]
  },
  {
   "cell_type": "code",
   "execution_count": 22,
   "id": "f790ecc3",
   "metadata": {},
   "outputs": [
    {
     "name": "stdout",
     "output_type": "stream",
     "text": [
      "[117 159 167 106 153 182 187 122 166 109]\n"
     ]
    }
   ],
   "source": [
    "## FOR RANDOM INTEGERS => np.random.randint(start,end,num_count)\n",
    "## If I want 10 values between 100 & 200, we can do it as\n",
    "rand_array = np.random.randint(100,200,10)\n",
    "print(rand_array )"
   ]
  },
  {
   "cell_type": "markdown",
   "id": "58c27453",
   "metadata": {},
   "source": [
    "## Check shape of numpy array\n",
    "- array.shape returns (col,rows)"
   ]
  },
  {
   "cell_type": "code",
   "execution_count": 23,
   "id": "f46a8140",
   "metadata": {},
   "outputs": [
    {
     "data": {
      "text/plain": [
       "(10,)"
      ]
     },
     "execution_count": 23,
     "metadata": {},
     "output_type": "execute_result"
    }
   ],
   "source": [
    "rand_array.shape"
   ]
  },
  {
   "cell_type": "code",
   "execution_count": 24,
   "id": "8010c957",
   "metadata": {},
   "outputs": [
    {
     "data": {
      "text/plain": [
       "(1, 2)"
      ]
     },
     "execution_count": 24,
     "metadata": {},
     "output_type": "execute_result"
    }
   ],
   "source": [
    "zeros_1x1.shape"
   ]
  },
  {
   "cell_type": "code",
   "execution_count": 25,
   "id": "ef0f53dd",
   "metadata": {},
   "outputs": [
    {
     "name": "stdout",
     "output_type": "stream",
     "text": [
      "(2, 4)\n"
     ]
    }
   ],
   "source": [
    "# We can also change shape\n",
    "my_array = np.array([\n",
    "    [1,2,3,7],\n",
    "    [4,5,6,8]\n",
    "])\n",
    "print(my_array.shape)"
   ]
  },
  {
   "cell_type": "code",
   "execution_count": 27,
   "id": "4e7d4855",
   "metadata": {},
   "outputs": [
    {
     "name": "stdout",
     "output_type": "stream",
     "text": [
      "[[1 2]\n",
      " [3 7]\n",
      " [4 5]\n",
      " [6 8]]\n"
     ]
    }
   ],
   "source": [
    "# Let's reshape it into 4x2 array\n",
    "my_array.shape = (4,2)\n",
    "\n",
    "print(my_array)"
   ]
  },
  {
   "cell_type": "markdown",
   "id": "46c2d04e",
   "metadata": {},
   "source": [
    "## Numpy Array Mathematics"
   ]
  },
  {
   "cell_type": "code",
   "execution_count": 28,
   "id": "522608cc",
   "metadata": {},
   "outputs": [],
   "source": [
    "n1 = np.array([\n",
    "    [1,2,3],\n",
    "    [4,5,6],\n",
    "    [7,8,9]\n",
    "])\n",
    "\n",
    "n2 = np.array([10,20,30])\n",
    "\n",
    "n3 = np.array([\n",
    "    [10,10,10],\n",
    "    [20,20,20],\n",
    "    [30,30,30]\n",
    "])\n",
    "\n",
    "n4 = np.array([30,20,10])"
   ]
  },
  {
   "cell_type": "markdown",
   "id": "3e16bcac",
   "metadata": {},
   "source": [
    "#### Addition\n",
    "- To add two arrays, both should have same dimensions(rows x cols)\n",
    "- We can add them as: `np.sum([arr1,arr2])`"
   ]
  },
  {
   "cell_type": "code",
   "execution_count": 32,
   "id": "1debd04b",
   "metadata": {},
   "outputs": [
    {
     "ename": "ValueError",
     "evalue": "could not broadcast input array from shape (3,3) into shape (3,)",
     "output_type": "error",
     "traceback": [
      "\u001b[1;31m---------------------------------------------------------------------------\u001b[0m",
      "\u001b[1;31mValueError\u001b[0m                                Traceback (most recent call last)",
      "\u001b[1;32m<ipython-input-32-bc2ab94ab1ba>\u001b[0m in \u001b[0;36m<module>\u001b[1;34m\u001b[0m\n\u001b[1;32m----> 1\u001b[1;33m \u001b[0mnp\u001b[0m\u001b[1;33m.\u001b[0m\u001b[0msum\u001b[0m\u001b[1;33m(\u001b[0m\u001b[1;33m[\u001b[0m\u001b[0mn2\u001b[0m\u001b[1;33m,\u001b[0m\u001b[0mn3\u001b[0m\u001b[1;33m]\u001b[0m\u001b[1;33m)\u001b[0m\u001b[1;33m\u001b[0m\u001b[1;33m\u001b[0m\u001b[0m\n\u001b[0m",
      "\u001b[1;32m<__array_function__ internals>\u001b[0m in \u001b[0;36msum\u001b[1;34m(*args, **kwargs)\u001b[0m\n",
      "\u001b[1;32mC:\\ProgramData\\Anaconda3\\lib\\site-packages\\numpy\\core\\fromnumeric.py\u001b[0m in \u001b[0;36msum\u001b[1;34m(a, axis, dtype, out, keepdims, initial, where)\u001b[0m\n\u001b[0;32m   2245\u001b[0m         \u001b[1;32mreturn\u001b[0m \u001b[0mres\u001b[0m\u001b[1;33m\u001b[0m\u001b[1;33m\u001b[0m\u001b[0m\n\u001b[0;32m   2246\u001b[0m \u001b[1;33m\u001b[0m\u001b[0m\n\u001b[1;32m-> 2247\u001b[1;33m     return _wrapreduction(a, np.add, 'sum', axis, dtype, out, keepdims=keepdims,\n\u001b[0m\u001b[0;32m   2248\u001b[0m                           initial=initial, where=where)\n\u001b[0;32m   2249\u001b[0m \u001b[1;33m\u001b[0m\u001b[0m\n",
      "\u001b[1;32mC:\\ProgramData\\Anaconda3\\lib\\site-packages\\numpy\\core\\fromnumeric.py\u001b[0m in \u001b[0;36m_wrapreduction\u001b[1;34m(obj, ufunc, method, axis, dtype, out, **kwargs)\u001b[0m\n\u001b[0;32m     85\u001b[0m                 \u001b[1;32mreturn\u001b[0m \u001b[0mreduction\u001b[0m\u001b[1;33m(\u001b[0m\u001b[0maxis\u001b[0m\u001b[1;33m=\u001b[0m\u001b[0maxis\u001b[0m\u001b[1;33m,\u001b[0m \u001b[0mout\u001b[0m\u001b[1;33m=\u001b[0m\u001b[0mout\u001b[0m\u001b[1;33m,\u001b[0m \u001b[1;33m**\u001b[0m\u001b[0mpasskwargs\u001b[0m\u001b[1;33m)\u001b[0m\u001b[1;33m\u001b[0m\u001b[1;33m\u001b[0m\u001b[0m\n\u001b[0;32m     86\u001b[0m \u001b[1;33m\u001b[0m\u001b[0m\n\u001b[1;32m---> 87\u001b[1;33m     \u001b[1;32mreturn\u001b[0m \u001b[0mufunc\u001b[0m\u001b[1;33m.\u001b[0m\u001b[0mreduce\u001b[0m\u001b[1;33m(\u001b[0m\u001b[0mobj\u001b[0m\u001b[1;33m,\u001b[0m \u001b[0maxis\u001b[0m\u001b[1;33m,\u001b[0m \u001b[0mdtype\u001b[0m\u001b[1;33m,\u001b[0m \u001b[0mout\u001b[0m\u001b[1;33m,\u001b[0m \u001b[1;33m**\u001b[0m\u001b[0mpasskwargs\u001b[0m\u001b[1;33m)\u001b[0m\u001b[1;33m\u001b[0m\u001b[1;33m\u001b[0m\u001b[0m\n\u001b[0m\u001b[0;32m     88\u001b[0m \u001b[1;33m\u001b[0m\u001b[0m\n\u001b[0;32m     89\u001b[0m \u001b[1;33m\u001b[0m\u001b[0m\n",
      "\u001b[1;31mValueError\u001b[0m: could not broadcast input array from shape (3,3) into shape (3,)"
     ]
    }
   ],
   "source": [
    "## WILL THROW AN ERROR AS n2 has 1x3 dimension while n3 has 3x3\n",
    "np.sum([n2,n3])"
   ]
  },
  {
   "cell_type": "code",
   "execution_count": 35,
   "id": "9e1bf81f",
   "metadata": {},
   "outputs": [
    {
     "data": {
      "text/plain": [
       "120"
      ]
     },
     "execution_count": 35,
     "metadata": {},
     "output_type": "execute_result"
    }
   ],
   "source": [
    "## ADD EVERYTHING TO GIVE A SINGLE NUM\n",
    "np.sum([n2,n4])"
   ]
  },
  {
   "cell_type": "code",
   "execution_count": 36,
   "id": "26047d41",
   "metadata": {},
   "outputs": [
    {
     "data": {
      "text/plain": [
       "array([60, 60])"
      ]
     },
     "execution_count": 36,
     "metadata": {},
     "output_type": "execute_result"
    }
   ],
   "source": [
    "## ADDITION WITH RESPECT TO ROWS - axis=1\n",
    "np.sum([n2,n4],axis=1)"
   ]
  },
  {
   "cell_type": "code",
   "execution_count": 37,
   "id": "6e44f50f",
   "metadata": {},
   "outputs": [
    {
     "data": {
      "text/plain": [
       "array([40, 40, 40])"
      ]
     },
     "execution_count": 37,
     "metadata": {},
     "output_type": "execute_result"
    }
   ],
   "source": [
    "## ADDITION WITH RESPECT TO COLUMNS - axis=0\n",
    "np.sum([n2,n4],axis=0)"
   ]
  },
  {
   "cell_type": "code",
   "execution_count": 39,
   "id": "c931b92e",
   "metadata": {},
   "outputs": [
    {
     "data": {
      "text/plain": [
       "225"
      ]
     },
     "execution_count": 39,
     "metadata": {},
     "output_type": "execute_result"
    }
   ],
   "source": [
    "## ADD EVERY NUMBER\n",
    "np.sum([n1,n3])"
   ]
  },
  {
   "cell_type": "code",
   "execution_count": 40,
   "id": "e66e41c4",
   "metadata": {},
   "outputs": [
    {
     "data": {
      "text/plain": [
       "array([[12, 15, 18],\n",
       "       [60, 60, 60]])"
      ]
     },
     "execution_count": 40,
     "metadata": {},
     "output_type": "execute_result"
    }
   ],
   "source": [
    "## ROW WISE - axis = 1\n",
    "np.sum([n1,n3],axis=1)"
   ]
  },
  {
   "cell_type": "code",
   "execution_count": 41,
   "id": "aff168a4",
   "metadata": {},
   "outputs": [
    {
     "data": {
      "text/plain": [
       "array([[11, 12, 13],\n",
       "       [24, 25, 26],\n",
       "       [37, 38, 39]])"
      ]
     },
     "execution_count": 41,
     "metadata": {},
     "output_type": "execute_result"
    }
   ],
   "source": [
    "## COLUMN WISE - axis = 0\n",
    "np.sum([n1,n3],axis=0)"
   ]
  },
  {
   "cell_type": "markdown",
   "id": "b9e79227",
   "metadata": {},
   "source": [
    "## Joining Arrays\n",
    "- vstack()\n",
    "- hstack()\n",
    "- column_stack()\n",
    "<hr>\n",
    "\n",
    "##### NOTE: DON'T FORGET TO use () inside function to pass arrays."
   ]
  },
  {
   "cell_type": "code",
   "execution_count": 42,
   "id": "450c6c9b",
   "metadata": {},
   "outputs": [],
   "source": [
    "n5 = np.array([10,20,30])\n",
    "n6 = np.array([2,4,6])"
   ]
  },
  {
   "cell_type": "code",
   "execution_count": 47,
   "id": "525d7d5d",
   "metadata": {},
   "outputs": [
    {
     "data": {
      "text/plain": [
       "array([[10, 20, 30],\n",
       "       [ 2,  4,  6]])"
      ]
     },
     "execution_count": 47,
     "metadata": {},
     "output_type": "execute_result"
    }
   ],
   "source": [
    "## VERTICAL STACK\n",
    "## JOIN ARRAYS ROW-WISE\n",
    "np.vstack((n5,n6))"
   ]
  },
  {
   "cell_type": "code",
   "execution_count": 48,
   "id": "52697398",
   "metadata": {},
   "outputs": [
    {
     "data": {
      "text/plain": [
       "array([10, 20, 30,  2,  4,  6])"
      ]
     },
     "execution_count": 48,
     "metadata": {},
     "output_type": "execute_result"
    }
   ],
   "source": [
    "## HORIZONTAL STACK\n",
    "## JOINING ARRAYS COLUMN-WISE\n",
    "np.hstack((n5,n6))"
   ]
  },
  {
   "cell_type": "code",
   "execution_count": 46,
   "id": "7e72a72f",
   "metadata": {},
   "outputs": [
    {
     "data": {
      "text/plain": [
       "array([[10,  2],\n",
       "       [20,  4],\n",
       "       [30,  6]])"
      ]
     },
     "execution_count": 46,
     "metadata": {},
     "output_type": "execute_result"
    }
   ],
   "source": [
    "## TAKE EVERY ROW AND MERGE AS COLUMN\n",
    "np.column_stack((n5,n6))"
   ]
  },
  {
   "cell_type": "code",
   "execution_count": 49,
   "id": "1f8fbfc5",
   "metadata": {},
   "outputs": [
    {
     "data": {
      "text/plain": [
       "array([[1, 2, 3],\n",
       "       [4, 5, 6],\n",
       "       [7, 8, 9]])"
      ]
     },
     "execution_count": 49,
     "metadata": {},
     "output_type": "execute_result"
    }
   ],
   "source": [
    "n1"
   ]
  },
  {
   "cell_type": "code",
   "execution_count": 50,
   "id": "466cec42",
   "metadata": {},
   "outputs": [
    {
     "data": {
      "text/plain": [
       "array([[10, 10, 10],\n",
       "       [20, 20, 20],\n",
       "       [30, 30, 30]])"
      ]
     },
     "execution_count": 50,
     "metadata": {},
     "output_type": "execute_result"
    }
   ],
   "source": [
    "n3"
   ]
  },
  {
   "cell_type": "code",
   "execution_count": 51,
   "id": "5e34eaa8",
   "metadata": {},
   "outputs": [
    {
     "data": {
      "text/plain": [
       "array([[ 1,  2,  3, 10, 10, 10],\n",
       "       [ 4,  5,  6, 20, 20, 20],\n",
       "       [ 7,  8,  9, 30, 30, 30]])"
      ]
     },
     "execution_count": 51,
     "metadata": {},
     "output_type": "execute_result"
    }
   ],
   "source": [
    "np.column_stack((n1,n3))"
   ]
  }
 ],
 "metadata": {
  "kernelspec": {
   "display_name": "Python 3",
   "language": "python",
   "name": "python3"
  },
  "language_info": {
   "codemirror_mode": {
    "name": "ipython",
    "version": 3
   },
   "file_extension": ".py",
   "mimetype": "text/x-python",
   "name": "python",
   "nbconvert_exporter": "python",
   "pygments_lexer": "ipython3",
   "version": "3.8.8"
  }
 },
 "nbformat": 4,
 "nbformat_minor": 5
}
